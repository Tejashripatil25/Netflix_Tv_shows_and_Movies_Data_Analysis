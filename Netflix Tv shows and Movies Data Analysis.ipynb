{
 "cells": [
  {
   "cell_type": "markdown",
   "id": "dbc0b0e5",
   "metadata": {},
   "source": [
    "### About this Dataset:\n",
    "#### Netflix is one of the most popular media and video streaming platforms. They have over 8000 movies or tv shows available on their platform, as of mid-2021, they have over 200M Subscribers globally. This tabular dataset consists of listings of all the movies and tv shows available on Netflix, along with details such as - cast, directors, ratings, release year, duration, etc."
   ]
  },
  {
   "cell_type": "markdown",
   "id": "c77c491a",
   "metadata": {},
   "source": [
    "## Netflix Tv shows and Movies Data Analysis"
   ]
  },
  {
   "cell_type": "markdown",
   "id": "cf9a9104",
   "metadata": {},
   "source": [
    "### Tasks: \n",
    "#### How many Movies & TV Shows are in the dataset ? Show with Bar Graph.\n",
    "#### -For 'Midnight Mass', what is the Show Id and Who is the Director of this show ?\n",
    "#### -In which year the highest number of the TV Shows & Movies were released ? Show with Bar Graph.\n",
    "#### -Show only the Titles of all TV Shows that were released in India only.\n",
    "#### -Show Top 10 Directors, who gave the highest number of TV Shows & Movies to Netflix ?\n",
    "#### -Show all the Records, where \"Category is Movie and Type is Comedies\" or \"Country is United Kingdom\".\n",
    "#### -What are the different Ratings defined by Netflix ?\n",
    "#### -Which individual country has the Highest No. of TV Shows ?\n",
    "#### -How can we sort the dataset by Year ?\n",
    "#### -Find all the instances where: Category is 'Movie' and Type is 'Dramas' or Category is 'TV Show' & Type is 'Kids' TV'."
   ]
  },
  {
   "cell_type": "code",
   "execution_count": 2,
   "id": "0741db28",
   "metadata": {},
   "outputs": [],
   "source": [
    "import numpy as np\n",
    "import pandas as pd\n",
    "import matplotlib.pyplot as plt\n",
    "import seaborn as sns"
   ]
  },
  {
   "cell_type": "markdown",
   "id": "234afc79",
   "metadata": {},
   "source": [
    "  ### Loading Dataset      "
   ]
  },
  {
   "cell_type": "code",
   "execution_count": 3,
   "id": "86d8a69f",
   "metadata": {},
   "outputs": [
    {
     "data": {
      "text/html": [
       "<div>\n",
       "<style scoped>\n",
       "    .dataframe tbody tr th:only-of-type {\n",
       "        vertical-align: middle;\n",
       "    }\n",
       "\n",
       "    .dataframe tbody tr th {\n",
       "        vertical-align: top;\n",
       "    }\n",
       "\n",
       "    .dataframe thead th {\n",
       "        text-align: right;\n",
       "    }\n",
       "</style>\n",
       "<table border=\"1\" class=\"dataframe\">\n",
       "  <thead>\n",
       "    <tr style=\"text-align: right;\">\n",
       "      <th></th>\n",
       "      <th>show_id</th>\n",
       "      <th>type</th>\n",
       "      <th>title</th>\n",
       "      <th>director</th>\n",
       "      <th>cast</th>\n",
       "      <th>country</th>\n",
       "      <th>date_added</th>\n",
       "      <th>release_year</th>\n",
       "      <th>rating</th>\n",
       "      <th>duration</th>\n",
       "      <th>listed_in</th>\n",
       "      <th>description</th>\n",
       "    </tr>\n",
       "  </thead>\n",
       "  <tbody>\n",
       "    <tr>\n",
       "      <th>0</th>\n",
       "      <td>s1</td>\n",
       "      <td>Movie</td>\n",
       "      <td>Dick Johnson Is Dead</td>\n",
       "      <td>Kirsten Johnson</td>\n",
       "      <td>NaN</td>\n",
       "      <td>United States</td>\n",
       "      <td>September 25, 2021</td>\n",
       "      <td>2020</td>\n",
       "      <td>PG-13</td>\n",
       "      <td>90 min</td>\n",
       "      <td>Documentaries</td>\n",
       "      <td>As her father nears the end of his life, filmm...</td>\n",
       "    </tr>\n",
       "    <tr>\n",
       "      <th>1</th>\n",
       "      <td>s2</td>\n",
       "      <td>TV Show</td>\n",
       "      <td>Blood &amp; Water</td>\n",
       "      <td>NaN</td>\n",
       "      <td>Ama Qamata, Khosi Ngema, Gail Mabalane, Thaban...</td>\n",
       "      <td>South Africa</td>\n",
       "      <td>September 24, 2021</td>\n",
       "      <td>2021</td>\n",
       "      <td>TV-MA</td>\n",
       "      <td>2 Seasons</td>\n",
       "      <td>International TV Shows, TV Dramas, TV Mysteries</td>\n",
       "      <td>After crossing paths at a party, a Cape Town t...</td>\n",
       "    </tr>\n",
       "    <tr>\n",
       "      <th>2</th>\n",
       "      <td>s3</td>\n",
       "      <td>TV Show</td>\n",
       "      <td>Ganglands</td>\n",
       "      <td>Julien Leclercq</td>\n",
       "      <td>Sami Bouajila, Tracy Gotoas, Samuel Jouy, Nabi...</td>\n",
       "      <td>NaN</td>\n",
       "      <td>September 24, 2021</td>\n",
       "      <td>2021</td>\n",
       "      <td>TV-MA</td>\n",
       "      <td>1 Season</td>\n",
       "      <td>Crime TV Shows, International TV Shows, TV Act...</td>\n",
       "      <td>To protect his family from a powerful drug lor...</td>\n",
       "    </tr>\n",
       "    <tr>\n",
       "      <th>3</th>\n",
       "      <td>s4</td>\n",
       "      <td>TV Show</td>\n",
       "      <td>Jailbirds New Orleans</td>\n",
       "      <td>NaN</td>\n",
       "      <td>NaN</td>\n",
       "      <td>NaN</td>\n",
       "      <td>September 24, 2021</td>\n",
       "      <td>2021</td>\n",
       "      <td>TV-MA</td>\n",
       "      <td>1 Season</td>\n",
       "      <td>Docuseries, Reality TV</td>\n",
       "      <td>Feuds, flirtations and toilet talk go down amo...</td>\n",
       "    </tr>\n",
       "    <tr>\n",
       "      <th>4</th>\n",
       "      <td>s5</td>\n",
       "      <td>TV Show</td>\n",
       "      <td>Kota Factory</td>\n",
       "      <td>NaN</td>\n",
       "      <td>Mayur More, Jitendra Kumar, Ranjan Raj, Alam K...</td>\n",
       "      <td>India</td>\n",
       "      <td>September 24, 2021</td>\n",
       "      <td>2021</td>\n",
       "      <td>TV-MA</td>\n",
       "      <td>2 Seasons</td>\n",
       "      <td>International TV Shows, Romantic TV Shows, TV ...</td>\n",
       "      <td>In a city of coaching centers known to train I...</td>\n",
       "    </tr>\n",
       "    <tr>\n",
       "      <th>...</th>\n",
       "      <td>...</td>\n",
       "      <td>...</td>\n",
       "      <td>...</td>\n",
       "      <td>...</td>\n",
       "      <td>...</td>\n",
       "      <td>...</td>\n",
       "      <td>...</td>\n",
       "      <td>...</td>\n",
       "      <td>...</td>\n",
       "      <td>...</td>\n",
       "      <td>...</td>\n",
       "      <td>...</td>\n",
       "    </tr>\n",
       "    <tr>\n",
       "      <th>8802</th>\n",
       "      <td>s8803</td>\n",
       "      <td>Movie</td>\n",
       "      <td>Zodiac</td>\n",
       "      <td>David Fincher</td>\n",
       "      <td>Mark Ruffalo, Jake Gyllenhaal, Robert Downey J...</td>\n",
       "      <td>United States</td>\n",
       "      <td>November 20, 2019</td>\n",
       "      <td>2007</td>\n",
       "      <td>R</td>\n",
       "      <td>158 min</td>\n",
       "      <td>Cult Movies, Dramas, Thrillers</td>\n",
       "      <td>A political cartoonist, a crime reporter and a...</td>\n",
       "    </tr>\n",
       "    <tr>\n",
       "      <th>8803</th>\n",
       "      <td>s8804</td>\n",
       "      <td>TV Show</td>\n",
       "      <td>Zombie Dumb</td>\n",
       "      <td>NaN</td>\n",
       "      <td>NaN</td>\n",
       "      <td>NaN</td>\n",
       "      <td>July 1, 2019</td>\n",
       "      <td>2018</td>\n",
       "      <td>TV-Y7</td>\n",
       "      <td>2 Seasons</td>\n",
       "      <td>Kids' TV, Korean TV Shows, TV Comedies</td>\n",
       "      <td>While living alone in a spooky town, a young g...</td>\n",
       "    </tr>\n",
       "    <tr>\n",
       "      <th>8804</th>\n",
       "      <td>s8805</td>\n",
       "      <td>Movie</td>\n",
       "      <td>Zombieland</td>\n",
       "      <td>Ruben Fleischer</td>\n",
       "      <td>Jesse Eisenberg, Woody Harrelson, Emma Stone, ...</td>\n",
       "      <td>United States</td>\n",
       "      <td>November 1, 2019</td>\n",
       "      <td>2009</td>\n",
       "      <td>R</td>\n",
       "      <td>88 min</td>\n",
       "      <td>Comedies, Horror Movies</td>\n",
       "      <td>Looking to survive in a world taken over by zo...</td>\n",
       "    </tr>\n",
       "    <tr>\n",
       "      <th>8805</th>\n",
       "      <td>s8806</td>\n",
       "      <td>Movie</td>\n",
       "      <td>Zoom</td>\n",
       "      <td>Peter Hewitt</td>\n",
       "      <td>Tim Allen, Courteney Cox, Chevy Chase, Kate Ma...</td>\n",
       "      <td>United States</td>\n",
       "      <td>January 11, 2020</td>\n",
       "      <td>2006</td>\n",
       "      <td>PG</td>\n",
       "      <td>88 min</td>\n",
       "      <td>Children &amp; Family Movies, Comedies</td>\n",
       "      <td>Dragged from civilian life, a former superhero...</td>\n",
       "    </tr>\n",
       "    <tr>\n",
       "      <th>8806</th>\n",
       "      <td>s8807</td>\n",
       "      <td>Movie</td>\n",
       "      <td>Zubaan</td>\n",
       "      <td>Mozez Singh</td>\n",
       "      <td>Vicky Kaushal, Sarah-Jane Dias, Raaghav Chanan...</td>\n",
       "      <td>India</td>\n",
       "      <td>March 2, 2019</td>\n",
       "      <td>2015</td>\n",
       "      <td>TV-14</td>\n",
       "      <td>111 min</td>\n",
       "      <td>Dramas, International Movies, Music &amp; Musicals</td>\n",
       "      <td>A scrappy but poor boy worms his way into a ty...</td>\n",
       "    </tr>\n",
       "  </tbody>\n",
       "</table>\n",
       "<p>8807 rows × 12 columns</p>\n",
       "</div>"
      ],
      "text/plain": [
       "     show_id     type                  title         director  \\\n",
       "0         s1    Movie   Dick Johnson Is Dead  Kirsten Johnson   \n",
       "1         s2  TV Show          Blood & Water              NaN   \n",
       "2         s3  TV Show              Ganglands  Julien Leclercq   \n",
       "3         s4  TV Show  Jailbirds New Orleans              NaN   \n",
       "4         s5  TV Show           Kota Factory              NaN   \n",
       "...      ...      ...                    ...              ...   \n",
       "8802   s8803    Movie                 Zodiac    David Fincher   \n",
       "8803   s8804  TV Show            Zombie Dumb              NaN   \n",
       "8804   s8805    Movie             Zombieland  Ruben Fleischer   \n",
       "8805   s8806    Movie                   Zoom     Peter Hewitt   \n",
       "8806   s8807    Movie                 Zubaan      Mozez Singh   \n",
       "\n",
       "                                                   cast        country  \\\n",
       "0                                                   NaN  United States   \n",
       "1     Ama Qamata, Khosi Ngema, Gail Mabalane, Thaban...   South Africa   \n",
       "2     Sami Bouajila, Tracy Gotoas, Samuel Jouy, Nabi...            NaN   \n",
       "3                                                   NaN            NaN   \n",
       "4     Mayur More, Jitendra Kumar, Ranjan Raj, Alam K...          India   \n",
       "...                                                 ...            ...   \n",
       "8802  Mark Ruffalo, Jake Gyllenhaal, Robert Downey J...  United States   \n",
       "8803                                                NaN            NaN   \n",
       "8804  Jesse Eisenberg, Woody Harrelson, Emma Stone, ...  United States   \n",
       "8805  Tim Allen, Courteney Cox, Chevy Chase, Kate Ma...  United States   \n",
       "8806  Vicky Kaushal, Sarah-Jane Dias, Raaghav Chanan...          India   \n",
       "\n",
       "              date_added  release_year rating   duration  \\\n",
       "0     September 25, 2021          2020  PG-13     90 min   \n",
       "1     September 24, 2021          2021  TV-MA  2 Seasons   \n",
       "2     September 24, 2021          2021  TV-MA   1 Season   \n",
       "3     September 24, 2021          2021  TV-MA   1 Season   \n",
       "4     September 24, 2021          2021  TV-MA  2 Seasons   \n",
       "...                  ...           ...    ...        ...   \n",
       "8802   November 20, 2019          2007      R    158 min   \n",
       "8803        July 1, 2019          2018  TV-Y7  2 Seasons   \n",
       "8804    November 1, 2019          2009      R     88 min   \n",
       "8805    January 11, 2020          2006     PG     88 min   \n",
       "8806       March 2, 2019          2015  TV-14    111 min   \n",
       "\n",
       "                                              listed_in  \\\n",
       "0                                         Documentaries   \n",
       "1       International TV Shows, TV Dramas, TV Mysteries   \n",
       "2     Crime TV Shows, International TV Shows, TV Act...   \n",
       "3                                Docuseries, Reality TV   \n",
       "4     International TV Shows, Romantic TV Shows, TV ...   \n",
       "...                                                 ...   \n",
       "8802                     Cult Movies, Dramas, Thrillers   \n",
       "8803             Kids' TV, Korean TV Shows, TV Comedies   \n",
       "8804                            Comedies, Horror Movies   \n",
       "8805                 Children & Family Movies, Comedies   \n",
       "8806     Dramas, International Movies, Music & Musicals   \n",
       "\n",
       "                                            description  \n",
       "0     As her father nears the end of his life, filmm...  \n",
       "1     After crossing paths at a party, a Cape Town t...  \n",
       "2     To protect his family from a powerful drug lor...  \n",
       "3     Feuds, flirtations and toilet talk go down amo...  \n",
       "4     In a city of coaching centers known to train I...  \n",
       "...                                                 ...  \n",
       "8802  A political cartoonist, a crime reporter and a...  \n",
       "8803  While living alone in a spooky town, a young g...  \n",
       "8804  Looking to survive in a world taken over by zo...  \n",
       "8805  Dragged from civilian life, a former superhero...  \n",
       "8806  A scrappy but poor boy worms his way into a ty...  \n",
       "\n",
       "[8807 rows x 12 columns]"
      ]
     },
     "execution_count": 3,
     "metadata": {},
     "output_type": "execute_result"
    }
   ],
   "source": [
    "df = pd.read_csv('netflix_titles.csv')\n",
    "df"
   ]
  },
  {
   "cell_type": "markdown",
   "id": "feabdb9e",
   "metadata": {},
   "source": [
    "### Data Exploration"
   ]
  },
  {
   "cell_type": "code",
   "execution_count": 3,
   "id": "7bea5399",
   "metadata": {},
   "outputs": [
    {
     "name": "stdout",
     "output_type": "stream",
     "text": [
      "<class 'pandas.core.frame.DataFrame'>\n",
      "RangeIndex: 8807 entries, 0 to 8806\n",
      "Data columns (total 12 columns):\n",
      " #   Column        Non-Null Count  Dtype \n",
      "---  ------        --------------  ----- \n",
      " 0   show_id       8807 non-null   object\n",
      " 1   type          8807 non-null   object\n",
      " 2   title         8807 non-null   object\n",
      " 3   director      6173 non-null   object\n",
      " 4   cast          7982 non-null   object\n",
      " 5   country       7976 non-null   object\n",
      " 6   date_added    8797 non-null   object\n",
      " 7   release_year  8807 non-null   int64 \n",
      " 8   rating        8803 non-null   object\n",
      " 9   duration      8804 non-null   object\n",
      " 10  listed_in     8807 non-null   object\n",
      " 11  description   8807 non-null   object\n",
      "dtypes: int64(1), object(11)\n",
      "memory usage: 825.8+ KB\n"
     ]
    }
   ],
   "source": [
    "# It shows index,columns,data types of each column,memory at once.\n",
    "df.info()"
   ]
  },
  {
   "cell_type": "code",
   "execution_count": 3,
   "id": "a616e559",
   "metadata": {},
   "outputs": [
    {
     "data": {
      "text/html": [
       "<div>\n",
       "<style scoped>\n",
       "    .dataframe tbody tr th:only-of-type {\n",
       "        vertical-align: middle;\n",
       "    }\n",
       "\n",
       "    .dataframe tbody tr th {\n",
       "        vertical-align: top;\n",
       "    }\n",
       "\n",
       "    .dataframe thead th {\n",
       "        text-align: right;\n",
       "    }\n",
       "</style>\n",
       "<table border=\"1\" class=\"dataframe\">\n",
       "  <thead>\n",
       "    <tr style=\"text-align: right;\">\n",
       "      <th></th>\n",
       "      <th>show_id</th>\n",
       "      <th>type</th>\n",
       "      <th>title</th>\n",
       "      <th>director</th>\n",
       "      <th>cast</th>\n",
       "      <th>country</th>\n",
       "      <th>date_added</th>\n",
       "      <th>release_year</th>\n",
       "      <th>rating</th>\n",
       "      <th>duration</th>\n",
       "      <th>listed_in</th>\n",
       "      <th>description</th>\n",
       "    </tr>\n",
       "  </thead>\n",
       "  <tbody>\n",
       "    <tr>\n",
       "      <th>0</th>\n",
       "      <td>s1</td>\n",
       "      <td>Movie</td>\n",
       "      <td>Dick Johnson Is Dead</td>\n",
       "      <td>Kirsten Johnson</td>\n",
       "      <td>NaN</td>\n",
       "      <td>United States</td>\n",
       "      <td>September 25, 2021</td>\n",
       "      <td>2020</td>\n",
       "      <td>PG-13</td>\n",
       "      <td>90 min</td>\n",
       "      <td>Documentaries</td>\n",
       "      <td>As her father nears the end of his life, filmm...</td>\n",
       "    </tr>\n",
       "    <tr>\n",
       "      <th>1</th>\n",
       "      <td>s2</td>\n",
       "      <td>TV Show</td>\n",
       "      <td>Blood &amp; Water</td>\n",
       "      <td>NaN</td>\n",
       "      <td>Ama Qamata, Khosi Ngema, Gail Mabalane, Thaban...</td>\n",
       "      <td>South Africa</td>\n",
       "      <td>September 24, 2021</td>\n",
       "      <td>2021</td>\n",
       "      <td>TV-MA</td>\n",
       "      <td>2 Seasons</td>\n",
       "      <td>International TV Shows, TV Dramas, TV Mysteries</td>\n",
       "      <td>After crossing paths at a party, a Cape Town t...</td>\n",
       "    </tr>\n",
       "    <tr>\n",
       "      <th>2</th>\n",
       "      <td>s3</td>\n",
       "      <td>TV Show</td>\n",
       "      <td>Ganglands</td>\n",
       "      <td>Julien Leclercq</td>\n",
       "      <td>Sami Bouajila, Tracy Gotoas, Samuel Jouy, Nabi...</td>\n",
       "      <td>NaN</td>\n",
       "      <td>September 24, 2021</td>\n",
       "      <td>2021</td>\n",
       "      <td>TV-MA</td>\n",
       "      <td>1 Season</td>\n",
       "      <td>Crime TV Shows, International TV Shows, TV Act...</td>\n",
       "      <td>To protect his family from a powerful drug lor...</td>\n",
       "    </tr>\n",
       "    <tr>\n",
       "      <th>3</th>\n",
       "      <td>s4</td>\n",
       "      <td>TV Show</td>\n",
       "      <td>Jailbirds New Orleans</td>\n",
       "      <td>NaN</td>\n",
       "      <td>NaN</td>\n",
       "      <td>NaN</td>\n",
       "      <td>September 24, 2021</td>\n",
       "      <td>2021</td>\n",
       "      <td>TV-MA</td>\n",
       "      <td>1 Season</td>\n",
       "      <td>Docuseries, Reality TV</td>\n",
       "      <td>Feuds, flirtations and toilet talk go down amo...</td>\n",
       "    </tr>\n",
       "    <tr>\n",
       "      <th>4</th>\n",
       "      <td>s5</td>\n",
       "      <td>TV Show</td>\n",
       "      <td>Kota Factory</td>\n",
       "      <td>NaN</td>\n",
       "      <td>Mayur More, Jitendra Kumar, Ranjan Raj, Alam K...</td>\n",
       "      <td>India</td>\n",
       "      <td>September 24, 2021</td>\n",
       "      <td>2021</td>\n",
       "      <td>TV-MA</td>\n",
       "      <td>2 Seasons</td>\n",
       "      <td>International TV Shows, Romantic TV Shows, TV ...</td>\n",
       "      <td>In a city of coaching centers known to train I...</td>\n",
       "    </tr>\n",
       "  </tbody>\n",
       "</table>\n",
       "</div>"
      ],
      "text/plain": [
       "  show_id     type                  title         director  \\\n",
       "0      s1    Movie   Dick Johnson Is Dead  Kirsten Johnson   \n",
       "1      s2  TV Show          Blood & Water              NaN   \n",
       "2      s3  TV Show              Ganglands  Julien Leclercq   \n",
       "3      s4  TV Show  Jailbirds New Orleans              NaN   \n",
       "4      s5  TV Show           Kota Factory              NaN   \n",
       "\n",
       "                                                cast        country  \\\n",
       "0                                                NaN  United States   \n",
       "1  Ama Qamata, Khosi Ngema, Gail Mabalane, Thaban...   South Africa   \n",
       "2  Sami Bouajila, Tracy Gotoas, Samuel Jouy, Nabi...            NaN   \n",
       "3                                                NaN            NaN   \n",
       "4  Mayur More, Jitendra Kumar, Ranjan Raj, Alam K...          India   \n",
       "\n",
       "           date_added  release_year rating   duration  \\\n",
       "0  September 25, 2021          2020  PG-13     90 min   \n",
       "1  September 24, 2021          2021  TV-MA  2 Seasons   \n",
       "2  September 24, 2021          2021  TV-MA   1 Season   \n",
       "3  September 24, 2021          2021  TV-MA   1 Season   \n",
       "4  September 24, 2021          2021  TV-MA  2 Seasons   \n",
       "\n",
       "                                           listed_in  \\\n",
       "0                                      Documentaries   \n",
       "1    International TV Shows, TV Dramas, TV Mysteries   \n",
       "2  Crime TV Shows, International TV Shows, TV Act...   \n",
       "3                             Docuseries, Reality TV   \n",
       "4  International TV Shows, Romantic TV Shows, TV ...   \n",
       "\n",
       "                                         description  \n",
       "0  As her father nears the end of his life, filmm...  \n",
       "1  After crossing paths at a party, a Cape Town t...  \n",
       "2  To protect his family from a powerful drug lor...  \n",
       "3  Feuds, flirtations and toilet talk go down amo...  \n",
       "4  In a city of coaching centers known to train I...  "
      ]
     },
     "execution_count": 3,
     "metadata": {},
     "output_type": "execute_result"
    }
   ],
   "source": [
    "#first n rows in the data(by default n=5)\n",
    "df.head()"
   ]
  },
  {
   "cell_type": "code",
   "execution_count": 6,
   "id": "2a9275d3",
   "metadata": {},
   "outputs": [
    {
     "data": {
      "text/plain": [
       "(8807, 12)"
      ]
     },
     "execution_count": 6,
     "metadata": {},
     "output_type": "execute_result"
    }
   ],
   "source": [
    "#total number of rows and columns in data\n",
    "df.shape"
   ]
  },
  {
   "cell_type": "code",
   "execution_count": 7,
   "id": "9165ccb3",
   "metadata": {},
   "outputs": [
    {
     "data": {
      "text/plain": [
       "105684"
      ]
     },
     "execution_count": 7,
     "metadata": {},
     "output_type": "execute_result"
    }
   ],
   "source": [
    "#number of total values in the dataset.\n",
    "df.size"
   ]
  },
  {
   "cell_type": "code",
   "execution_count": 8,
   "id": "dfd59236",
   "metadata": {},
   "outputs": [
    {
     "data": {
      "text/plain": [
       "Index(['show_id', 'type', 'title', 'director', 'cast', 'country', 'date_added',\n",
       "       'release_year', 'rating', 'duration', 'listed_in', 'description'],\n",
       "      dtype='object')"
      ]
     },
     "execution_count": 8,
     "metadata": {},
     "output_type": "execute_result"
    }
   ],
   "source": [
    "#name of all columns\n",
    "df.columns"
   ]
  },
  {
   "cell_type": "code",
   "execution_count": 9,
   "id": "eaa3618d",
   "metadata": {},
   "outputs": [
    {
     "data": {
      "text/plain": [
       "show_id         object\n",
       "type            object\n",
       "title           object\n",
       "director        object\n",
       "cast            object\n",
       "country         object\n",
       "date_added      object\n",
       "release_year     int64\n",
       "rating          object\n",
       "duration        object\n",
       "listed_in       object\n",
       "description     object\n",
       "dtype: object"
      ]
     },
     "execution_count": 9,
     "metadata": {},
     "output_type": "execute_result"
    }
   ],
   "source": [
    "#data-type of each column\n",
    "df.dtypes"
   ]
  },
  {
   "cell_type": "code",
   "execution_count": 4,
   "id": "55d2f0b2",
   "metadata": {},
   "outputs": [
    {
     "data": {
      "text/plain": [
       "country                                                                            \n",
       "United States                                                                          2818\n",
       "India                                                                                   972\n",
       "United Kingdom                                                                          419\n",
       "Japan                                                                                   245\n",
       "South Korea                                                                             199\n",
       "                                                                                       ... \n",
       "Ireland, Canada, Luxembourg, United States, United Kingdom, Philippines, India            1\n",
       "Ireland, Canada, United Kingdom, United States                                            1\n",
       "Ireland, Canada, United States, United Kingdom                                            1\n",
       "Ireland, France, Iceland, United States, Mexico, Belgium, United Kingdom, Hong Kong       1\n",
       "Zimbabwe                                                                                  1\n",
       "Length: 748, dtype: int64"
      ]
     },
     "execution_count": 4,
     "metadata": {},
     "output_type": "execute_result"
    }
   ],
   "source": [
    "df[['country']].value_counts()"
   ]
  },
  {
   "cell_type": "code",
   "execution_count": 11,
   "id": "ab8042d4",
   "metadata": {},
   "outputs": [
    {
     "data": {
      "text/plain": [
       "show_id         8807\n",
       "type               2\n",
       "title           8807\n",
       "director        4528\n",
       "cast            7692\n",
       "country          748\n",
       "date_added      1767\n",
       "release_year      74\n",
       "rating            17\n",
       "duration         220\n",
       "listed_in        514\n",
       "description     8775\n",
       "dtype: int64"
      ]
     },
     "execution_count": 11,
     "metadata": {},
     "output_type": "execute_result"
    }
   ],
   "source": [
    "#count of total number of unique values in the series.\n",
    "df.nunique()"
   ]
  },
  {
   "cell_type": "code",
   "execution_count": 12,
   "id": "226b8cbd",
   "metadata": {},
   "outputs": [
    {
     "data": {
      "text/plain": [
       "0"
      ]
     },
     "execution_count": 12,
     "metadata": {},
     "output_type": "execute_result"
    }
   ],
   "source": [
    "#count of duplicate values in dataset\n",
    "df.duplicated().sum()"
   ]
  },
  {
   "cell_type": "markdown",
   "id": "30dff27e",
   "metadata": {},
   "source": [
    "#### There is no any duplicate value in dataset."
   ]
  },
  {
   "cell_type": "code",
   "execution_count": 3,
   "id": "0bc8aecd",
   "metadata": {},
   "outputs": [
    {
     "data": {
      "text/plain": [
       "show_id            0\n",
       "type               0\n",
       "title              0\n",
       "director        2634\n",
       "cast             825\n",
       "country          831\n",
       "date_added        10\n",
       "release_year       0\n",
       "rating             4\n",
       "duration           3\n",
       "listed_in          0\n",
       "description        0\n",
       "dtype: int64"
      ]
     },
     "execution_count": 3,
     "metadata": {},
     "output_type": "execute_result"
    }
   ],
   "source": [
    "#check where null value is present\n",
    "df.isna().sum()"
   ]
  },
  {
   "cell_type": "markdown",
   "id": "aa6214ab",
   "metadata": {},
   "source": [
    "### Remove Null values."
   ]
  },
  {
   "cell_type": "code",
   "execution_count": 4,
   "id": "9174390f",
   "metadata": {},
   "outputs": [
    {
     "data": {
      "text/plain": [
       "show_id         0\n",
       "type            0\n",
       "title           0\n",
       "director        0\n",
       "cast            0\n",
       "country         0\n",
       "date_added      0\n",
       "release_year    0\n",
       "rating          0\n",
       "duration        0\n",
       "listed_in       0\n",
       "description     0\n",
       "dtype: int64"
      ]
     },
     "execution_count": 4,
     "metadata": {},
     "output_type": "execute_result"
    }
   ],
   "source": [
    "df.fillna({\"director\":\"Missing\",\"cast\":\"Missing\",\"country\":\"Unavailable\",\"date_added\":\"Unavailable\",\n",
    "           \"rating\":\"Unavailable\",\"duration\":\"Unavailable\",\"month\":\"Unavailable\",\"year\":\"Unavailable\"},inplace=True)\n",
    "df.isna().sum()"
   ]
  },
  {
   "cell_type": "code",
   "execution_count": 5,
   "id": "0da0fc97",
   "metadata": {},
   "outputs": [
    {
     "data": {
      "text/html": [
       "<div>\n",
       "<style scoped>\n",
       "    .dataframe tbody tr th:only-of-type {\n",
       "        vertical-align: middle;\n",
       "    }\n",
       "\n",
       "    .dataframe tbody tr th {\n",
       "        vertical-align: top;\n",
       "    }\n",
       "\n",
       "    .dataframe thead th {\n",
       "        text-align: right;\n",
       "    }\n",
       "</style>\n",
       "<table border=\"1\" class=\"dataframe\">\n",
       "  <thead>\n",
       "    <tr style=\"text-align: right;\">\n",
       "      <th></th>\n",
       "      <th>show_id</th>\n",
       "      <th>type</th>\n",
       "      <th>title</th>\n",
       "      <th>director</th>\n",
       "      <th>cast</th>\n",
       "      <th>country</th>\n",
       "      <th>date_added</th>\n",
       "      <th>release_year</th>\n",
       "      <th>rating</th>\n",
       "      <th>duration</th>\n",
       "      <th>listed_in</th>\n",
       "      <th>description</th>\n",
       "    </tr>\n",
       "  </thead>\n",
       "  <tbody>\n",
       "    <tr>\n",
       "      <th>5</th>\n",
       "      <td>s6</td>\n",
       "      <td>TV Show</td>\n",
       "      <td>Midnight Mass</td>\n",
       "      <td>Mike Flanagan</td>\n",
       "      <td>Kate Siegel, Zach Gilford, Hamish Linklater, H...</td>\n",
       "      <td>Unavailable</td>\n",
       "      <td>September 24, 2021</td>\n",
       "      <td>2021</td>\n",
       "      <td>TV-MA</td>\n",
       "      <td>1 Season</td>\n",
       "      <td>TV Dramas, TV Horror, TV Mysteries</td>\n",
       "      <td>The arrival of a charismatic young priest brin...</td>\n",
       "    </tr>\n",
       "  </tbody>\n",
       "</table>\n",
       "</div>"
      ],
      "text/plain": [
       "  show_id     type          title       director  \\\n",
       "5      s6  TV Show  Midnight Mass  Mike Flanagan   \n",
       "\n",
       "                                                cast      country  \\\n",
       "5  Kate Siegel, Zach Gilford, Hamish Linklater, H...  Unavailable   \n",
       "\n",
       "           date_added  release_year rating  duration  \\\n",
       "5  September 24, 2021          2021  TV-MA  1 Season   \n",
       "\n",
       "                            listed_in  \\\n",
       "5  TV Dramas, TV Horror, TV Mysteries   \n",
       "\n",
       "                                         description  \n",
       "5  The arrival of a charismatic young priest brin...  "
      ]
     },
     "execution_count": 5,
     "metadata": {},
     "output_type": "execute_result"
    }
   ],
   "source": [
    "df.groupby('title').get_group( 'Midnight Mass')"
   ]
  },
  {
   "cell_type": "markdown",
   "id": "303c0d3d",
   "metadata": {},
   "source": [
    "### Conclusion:\n",
    "####         It show_id is s6 and director of the show 'Midnight Mass' is Mike Flanagan."
   ]
  },
  {
   "cell_type": "code",
   "execution_count": 6,
   "id": "827e5986",
   "metadata": {},
   "outputs": [
    {
     "data": {
      "text/plain": [
       "type\n",
       "Movie      6131\n",
       "TV Show    2676\n",
       "Name: type, dtype: int64"
      ]
     },
     "execution_count": 6,
     "metadata": {},
     "output_type": "execute_result"
    }
   ],
   "source": [
    "#To group unique items of a columns and show their items\n",
    "type_count=df.groupby('type').type.count()\n",
    "type_count"
   ]
  },
  {
   "cell_type": "code",
   "execution_count": 18,
   "id": "3e48c4b0",
   "metadata": {},
   "outputs": [
    {
     "data": {
      "text/plain": [
       "Text(0.5, 1.0, 'No. of Movies & TV Shows')"
      ]
     },
     "execution_count": 18,
     "metadata": {},
     "output_type": "execute_result"
    },
    {
     "data": {
      "image/png": "[encoded data removed]",
      "text/plain": [
       "<Figure size 640x480 with 1 Axes>"
      ]
     },
     "metadata": {},
     "output_type": "display_data"
    }
   ],
   "source": [
    "type_count.plot(kind='bar')\n",
    "plt.title('No. of Movies & TV Shows')"
   ]
  },
  {
   "cell_type": "markdown",
   "id": "2607f7b9",
   "metadata": {},
   "source": [
    "### Conclusion:\n",
    "#### count of movies are 6131 and TV show are 2676.From above graph conclude that the count of movies are more as compared to TV shows."
   ]
  },
  {
   "cell_type": "code",
   "execution_count": 19,
   "id": "9fcdb3c2",
   "metadata": {},
   "outputs": [
    {
     "data": {
      "text/plain": [
       "2018    1147\n",
       "2017    1032\n",
       "2019    1030\n",
       "2020     953\n",
       "2016     902\n",
       "Name: release_year, dtype: int64"
      ]
     },
     "execution_count": 19,
     "metadata": {},
     "output_type": "execute_result"
    }
   ],
   "source": [
    "# first 5 records of release_year column\n",
    "counts_release_year=df['release_year'].value_counts()\n",
    "counts_release_year.head()"
   ]
  },
  {
   "cell_type": "code",
   "execution_count": 20,
   "id": "80d40245",
   "metadata": {},
   "outputs": [
    {
     "data": {
      "text/plain": [
       "Text(0.5, 0, 'Release year of Movies and TV Shows')"
      ]
     },
     "execution_count": 20,
     "metadata": {},
     "output_type": "execute_result"
    },
    {
     "data": {
      "image/png": "[encoded data removed]",
      "text/plain": [
       "<Figure size 1200x1000 with 1 Axes>"
      ]
     },
     "metadata": {},
     "output_type": "display_data"
    }
   ],
   "source": [
    "plt.figure(figsize=(12,10))\n",
    "counts_release_year.plot(kind='bar')\n",
    "plt.xlabel('Release year of Movies and TV Shows')"
   ]
  },
  {
   "cell_type": "markdown",
   "id": "48ba8f4f",
   "metadata": {},
   "source": [
    "### Conclusion:\n",
    "#### In the year 2018 the highest number of TV shows & Movies were released"
   ]
  },
  {
   "cell_type": "code",
   "execution_count": 11,
   "id": "920b5f64",
   "metadata": {
    "scrolled": true
   },
   "outputs": [
    {
     "data": {
      "text/plain": [
       "array(['PG-13', 'TV-MA', 'PG', 'TV-14', 'TV-PG', 'TV-Y', 'TV-Y7', 'R',\n",
       "       'TV-G', 'G', 'NC-17', '74 min', '84 min', '66 min', 'NR', nan,\n",
       "       'TV-Y7-FV', 'UR'], dtype=object)"
      ]
     },
     "execution_count": 11,
     "metadata": {},
     "output_type": "execute_result"
    }
   ],
   "source": [
    "#diffrent ratings defined by Netflix\n",
    "pi = df.rating.unique()\n",
    "pi"
   ]
  },
  {
   "cell_type": "code",
   "execution_count": 23,
   "id": "27b63a0a",
   "metadata": {},
   "outputs": [
    {
     "data": {
      "text/plain": [
       "18"
      ]
     },
     "execution_count": 23,
     "metadata": {},
     "output_type": "execute_result"
    }
   ],
   "source": [
    "#Total count of ratings\n",
    "df.rating.nunique()"
   ]
  },
  {
   "cell_type": "code",
   "execution_count": 18,
   "id": "ea8e9f3d",
   "metadata": {},
   "outputs": [
    {
     "data": {
      "text/plain": [
       "Text(0.5, 1.0, 'Distribution Of Rating')"
      ]
     },
     "execution_count": 18,
     "metadata": {},
     "output_type": "execute_result"
    },
    {
     "data": {
      "image/png": "[encoded data removed]",
      "text/plain": [
       "<Figure size 1000x600 with 1 Axes>"
      ]
     },
     "metadata": {},
     "output_type": "display_data"
    }
   ],
   "source": [
    "plt.figure(figsize = (10,6))\n",
    "df['rating'].value_counts()[:10].plot(kind =\"pie\",autopct='%f%%')\n",
    "plt.title('Distribution Of Rating')"
   ]
  },
  {
   "cell_type": "code",
   "execution_count": 28,
   "id": "0710f05c",
   "metadata": {},
   "outputs": [
    {
     "data": {
      "text/html": [
       "<div>\n",
       "<style scoped>\n",
       "    .dataframe tbody tr th:only-of-type {\n",
       "        vertical-align: middle;\n",
       "    }\n",
       "\n",
       "    .dataframe tbody tr th {\n",
       "        vertical-align: top;\n",
       "    }\n",
       "\n",
       "    .dataframe thead th {\n",
       "        text-align: right;\n",
       "    }\n",
       "</style>\n",
       "<table border=\"1\" class=\"dataframe\">\n",
       "  <thead>\n",
       "    <tr style=\"text-align: right;\">\n",
       "      <th></th>\n",
       "      <th>show_id</th>\n",
       "      <th>type</th>\n",
       "      <th>title</th>\n",
       "      <th>director</th>\n",
       "      <th>cast</th>\n",
       "      <th>country</th>\n",
       "      <th>date_added</th>\n",
       "      <th>release_year</th>\n",
       "      <th>rating</th>\n",
       "      <th>duration</th>\n",
       "      <th>listed_in</th>\n",
       "      <th>description</th>\n",
       "    </tr>\n",
       "  </thead>\n",
       "  <tbody>\n",
       "    <tr>\n",
       "      <th>4</th>\n",
       "      <td>s5</td>\n",
       "      <td>TV Show</td>\n",
       "      <td>Kota Factory</td>\n",
       "      <td>Missing</td>\n",
       "      <td>Mayur More, Jitendra Kumar, Ranjan Raj, Alam K...</td>\n",
       "      <td>India</td>\n",
       "      <td>September 24, 2021</td>\n",
       "      <td>2021</td>\n",
       "      <td>TV-MA</td>\n",
       "      <td>2 Seasons</td>\n",
       "      <td>International TV Shows, Romantic TV Shows, TV ...</td>\n",
       "      <td>In a city of coaching centers known to train I...</td>\n",
       "    </tr>\n",
       "    <tr>\n",
       "      <th>39</th>\n",
       "      <td>s40</td>\n",
       "      <td>TV Show</td>\n",
       "      <td>Chhota Bheem</td>\n",
       "      <td>Missing</td>\n",
       "      <td>Vatsal Dubey, Julie Tejwani, Rupa Bhimani, Jig...</td>\n",
       "      <td>India</td>\n",
       "      <td>September 16, 2021</td>\n",
       "      <td>2021</td>\n",
       "      <td>TV-Y7</td>\n",
       "      <td>3 Seasons</td>\n",
       "      <td>Kids' TV</td>\n",
       "      <td>A brave, energetic little boy with superhuman ...</td>\n",
       "    </tr>\n",
       "    <tr>\n",
       "      <th>50</th>\n",
       "      <td>s51</td>\n",
       "      <td>TV Show</td>\n",
       "      <td>Dharmakshetra</td>\n",
       "      <td>Missing</td>\n",
       "      <td>Kashmira Irani, Chandan Anand, Dinesh Mehta, A...</td>\n",
       "      <td>India</td>\n",
       "      <td>September 15, 2021</td>\n",
       "      <td>2014</td>\n",
       "      <td>TV-PG</td>\n",
       "      <td>1 Season</td>\n",
       "      <td>International TV Shows, TV Dramas, TV Sci-Fi &amp;...</td>\n",
       "      <td>After the ancient Great War, the god Chitragup...</td>\n",
       "    </tr>\n",
       "    <tr>\n",
       "      <th>66</th>\n",
       "      <td>s67</td>\n",
       "      <td>TV Show</td>\n",
       "      <td>Raja Rasoi Aur Anya Kahaniyan</td>\n",
       "      <td>Missing</td>\n",
       "      <td>Missing</td>\n",
       "      <td>India</td>\n",
       "      <td>September 15, 2021</td>\n",
       "      <td>2014</td>\n",
       "      <td>TV-G</td>\n",
       "      <td>1 Season</td>\n",
       "      <td>Docuseries, International TV Shows</td>\n",
       "      <td>Explore the history and flavors of regional In...</td>\n",
       "    </tr>\n",
       "    <tr>\n",
       "      <th>69</th>\n",
       "      <td>s70</td>\n",
       "      <td>TV Show</td>\n",
       "      <td>Stories by Rabindranath Tagore</td>\n",
       "      <td>Missing</td>\n",
       "      <td>Missing</td>\n",
       "      <td>India</td>\n",
       "      <td>September 15, 2021</td>\n",
       "      <td>2015</td>\n",
       "      <td>TV-PG</td>\n",
       "      <td>1 Season</td>\n",
       "      <td>International TV Shows, TV Dramas</td>\n",
       "      <td>The writings of Nobel Prize winner Rabindranat...</td>\n",
       "    </tr>\n",
       "    <tr>\n",
       "      <th>...</th>\n",
       "      <td>...</td>\n",
       "      <td>...</td>\n",
       "      <td>...</td>\n",
       "      <td>...</td>\n",
       "      <td>...</td>\n",
       "      <td>...</td>\n",
       "      <td>...</td>\n",
       "      <td>...</td>\n",
       "      <td>...</td>\n",
       "      <td>...</td>\n",
       "      <td>...</td>\n",
       "      <td>...</td>\n",
       "    </tr>\n",
       "    <tr>\n",
       "      <th>8173</th>\n",
       "      <td>s8174</td>\n",
       "      <td>TV Show</td>\n",
       "      <td>Thackeray</td>\n",
       "      <td>Missing</td>\n",
       "      <td>Missing</td>\n",
       "      <td>India</td>\n",
       "      <td>May 25, 2019</td>\n",
       "      <td>2019</td>\n",
       "      <td>TV-MA</td>\n",
       "      <td>1 Season</td>\n",
       "      <td>TV Shows</td>\n",
       "      <td>From controversial cartoonist to powerful Mumb...</td>\n",
       "    </tr>\n",
       "    <tr>\n",
       "      <th>8235</th>\n",
       "      <td>s8236</td>\n",
       "      <td>TV Show</td>\n",
       "      <td>The Calling</td>\n",
       "      <td>Bumpy</td>\n",
       "      <td>Missing</td>\n",
       "      <td>India</td>\n",
       "      <td>April 1, 2019</td>\n",
       "      <td>2018</td>\n",
       "      <td>TV-MA</td>\n",
       "      <td>1 Season</td>\n",
       "      <td>International TV Shows, Reality TV</td>\n",
       "      <td>Food-crazed travel junkies journey across Indi...</td>\n",
       "    </tr>\n",
       "    <tr>\n",
       "      <th>8321</th>\n",
       "      <td>s8322</td>\n",
       "      <td>TV Show</td>\n",
       "      <td>The Golden Years with Javed Akhtar</td>\n",
       "      <td>Missing</td>\n",
       "      <td>Missing</td>\n",
       "      <td>India</td>\n",
       "      <td>June 1, 2017</td>\n",
       "      <td>2016</td>\n",
       "      <td>TV-G</td>\n",
       "      <td>1 Season</td>\n",
       "      <td>Docuseries, International TV Shows</td>\n",
       "      <td>Writer, poet and lyricist Javed Akhtar hosts t...</td>\n",
       "    </tr>\n",
       "    <tr>\n",
       "      <th>8349</th>\n",
       "      <td>s8350</td>\n",
       "      <td>TV Show</td>\n",
       "      <td>The House That Made Me</td>\n",
       "      <td>Missing</td>\n",
       "      <td>Vinay Pathak</td>\n",
       "      <td>India</td>\n",
       "      <td>March 31, 2017</td>\n",
       "      <td>2015</td>\n",
       "      <td>TV-PG</td>\n",
       "      <td>3 Seasons</td>\n",
       "      <td>International TV Shows, Reality TV</td>\n",
       "      <td>With host Vinay Pathak, Indian celebrities ret...</td>\n",
       "    </tr>\n",
       "    <tr>\n",
       "      <th>8775</th>\n",
       "      <td>s8776</td>\n",
       "      <td>TV Show</td>\n",
       "      <td>Yeh Meri Family</td>\n",
       "      <td>Missing</td>\n",
       "      <td>Vishesh Bansal, Mona Singh, Akarsh Khurana, Ah...</td>\n",
       "      <td>India</td>\n",
       "      <td>August 31, 2018</td>\n",
       "      <td>2018</td>\n",
       "      <td>TV-PG</td>\n",
       "      <td>1 Season</td>\n",
       "      <td>International TV Shows, TV Comedies</td>\n",
       "      <td>In the summer of 1998, middle child Harshu bal...</td>\n",
       "    </tr>\n",
       "  </tbody>\n",
       "</table>\n",
       "<p>79 rows × 12 columns</p>\n",
       "</div>"
      ],
      "text/plain": [
       "     show_id     type                               title director  \\\n",
       "4         s5  TV Show                        Kota Factory  Missing   \n",
       "39       s40  TV Show                        Chhota Bheem  Missing   \n",
       "50       s51  TV Show                       Dharmakshetra  Missing   \n",
       "66       s67  TV Show       Raja Rasoi Aur Anya Kahaniyan  Missing   \n",
       "69       s70  TV Show      Stories by Rabindranath Tagore  Missing   \n",
       "...      ...      ...                                 ...      ...   \n",
       "8173   s8174  TV Show                           Thackeray  Missing   \n",
       "8235   s8236  TV Show                         The Calling    Bumpy   \n",
       "8321   s8322  TV Show  The Golden Years with Javed Akhtar  Missing   \n",
       "8349   s8350  TV Show              The House That Made Me  Missing   \n",
       "8775   s8776  TV Show                     Yeh Meri Family  Missing   \n",
       "\n",
       "                                                   cast country  \\\n",
       "4     Mayur More, Jitendra Kumar, Ranjan Raj, Alam K...   India   \n",
       "39    Vatsal Dubey, Julie Tejwani, Rupa Bhimani, Jig...   India   \n",
       "50    Kashmira Irani, Chandan Anand, Dinesh Mehta, A...   India   \n",
       "66                                              Missing   India   \n",
       "69                                              Missing   India   \n",
       "...                                                 ...     ...   \n",
       "8173                                            Missing   India   \n",
       "8235                                            Missing   India   \n",
       "8321                                            Missing   India   \n",
       "8349                                       Vinay Pathak   India   \n",
       "8775  Vishesh Bansal, Mona Singh, Akarsh Khurana, Ah...   India   \n",
       "\n",
       "              date_added  release_year rating   duration  \\\n",
       "4     September 24, 2021          2021  TV-MA  2 Seasons   \n",
       "39    September 16, 2021          2021  TV-Y7  3 Seasons   \n",
       "50    September 15, 2021          2014  TV-PG   1 Season   \n",
       "66    September 15, 2021          2014   TV-G   1 Season   \n",
       "69    September 15, 2021          2015  TV-PG   1 Season   \n",
       "...                  ...           ...    ...        ...   \n",
       "8173        May 25, 2019          2019  TV-MA   1 Season   \n",
       "8235       April 1, 2019          2018  TV-MA   1 Season   \n",
       "8321        June 1, 2017          2016   TV-G   1 Season   \n",
       "8349      March 31, 2017          2015  TV-PG  3 Seasons   \n",
       "8775     August 31, 2018          2018  TV-PG   1 Season   \n",
       "\n",
       "                                              listed_in  \\\n",
       "4     International TV Shows, Romantic TV Shows, TV ...   \n",
       "39                                             Kids' TV   \n",
       "50    International TV Shows, TV Dramas, TV Sci-Fi &...   \n",
       "66                   Docuseries, International TV Shows   \n",
       "69                    International TV Shows, TV Dramas   \n",
       "...                                                 ...   \n",
       "8173                                           TV Shows   \n",
       "8235                 International TV Shows, Reality TV   \n",
       "8321                 Docuseries, International TV Shows   \n",
       "8349                 International TV Shows, Reality TV   \n",
       "8775                International TV Shows, TV Comedies   \n",
       "\n",
       "                                            description  \n",
       "4     In a city of coaching centers known to train I...  \n",
       "39    A brave, energetic little boy with superhuman ...  \n",
       "50    After the ancient Great War, the god Chitragup...  \n",
       "66    Explore the history and flavors of regional In...  \n",
       "69    The writings of Nobel Prize winner Rabindranat...  \n",
       "...                                                 ...  \n",
       "8173  From controversial cartoonist to powerful Mumb...  \n",
       "8235  Food-crazed travel junkies journey across Indi...  \n",
       "8321  Writer, poet and lyricist Javed Akhtar hosts t...  \n",
       "8349  With host Vinay Pathak, Indian celebrities ret...  \n",
       "8775  In the summer of 1998, middle child Harshu bal...  \n",
       "\n",
       "[79 rows x 12 columns]"
      ]
     },
     "execution_count": 28,
     "metadata": {},
     "output_type": "execute_result"
    }
   ],
   "source": [
    "#popular TV Shows that were released in India only\n",
    "df[(df['country']=='India')&(df['type']=='TV Show')]"
   ]
  },
  {
   "cell_type": "code",
   "execution_count": 33,
   "id": "cd189199",
   "metadata": {
    "scrolled": true
   },
   "outputs": [
    {
     "data": {
      "text/plain": [
       "United States    760\n",
       "Name: country, dtype: int64"
      ]
     },
     "execution_count": 33,
     "metadata": {},
     "output_type": "execute_result"
    }
   ],
   "source": [
    "#Individual country has the highest no. of TV shows\n",
    "df.groupby('type').get_group('TV Show')['country'].value_counts().head(1)"
   ]
  },
  {
   "cell_type": "code",
   "execution_count": 21,
   "id": "420334a1",
   "metadata": {},
   "outputs": [
    {
     "data": {
      "image/png": "[encoded data removed]",
      "text/plain": [
       "<Figure size 1200x1000 with 1 Axes>"
      ]
     },
     "metadata": {},
     "output_type": "display_data"
    }
   ],
   "source": [
    "plt.figure(figsize=(12,10))\n",
    "sns.countplot(x='country', data=df, order=df['country'].value_counts().index[:15])\n",
    "plt.xticks(rotation=60)\n",
    "plt.title('Number of Movies and TV Shows by Country')\n",
    "plt.xlabel('Country')\n",
    "plt.ylabel('Count')\n",
    "plt.show()"
   ]
  },
  {
   "cell_type": "markdown",
   "id": "39e0ffcc",
   "metadata": {},
   "source": [
    "#### Here in united states having highest number of TV Shows"
   ]
  },
  {
   "cell_type": "code",
   "execution_count": 34,
   "id": "d7a8b1ac",
   "metadata": {
    "scrolled": true
   },
   "outputs": [
    {
     "data": {
      "text/plain": [
       "Missing                   2634\n",
       "Rajiv Chilaka               19\n",
       "Raúl Campos, Jan Suter      18\n",
       "Suhas Kadav                 16\n",
       "Marcus Raboy                16\n",
       "Jay Karas                   14\n",
       "Cathy Garcia-Molina         13\n",
       "Jay Chapman                 12\n",
       "Youssef Chahine             12\n",
       "Martin Scorsese             12\n",
       "Name: director, dtype: int64"
      ]
     },
     "execution_count": 34,
     "metadata": {},
     "output_type": "execute_result"
    }
   ],
   "source": [
    "#Top 10 directors which gave max no of shows.\n",
    "df[\"director\"].value_counts().head(10)"
   ]
  },
  {
   "cell_type": "code",
   "execution_count": 36,
   "id": "89122c7f",
   "metadata": {},
   "outputs": [
    {
     "data": {
      "text/html": [
       "<div>\n",
       "<style scoped>\n",
       "    .dataframe tbody tr th:only-of-type {\n",
       "        vertical-align: middle;\n",
       "    }\n",
       "\n",
       "    .dataframe tbody tr th {\n",
       "        vertical-align: top;\n",
       "    }\n",
       "\n",
       "    .dataframe thead th {\n",
       "        text-align: right;\n",
       "    }\n",
       "</style>\n",
       "<table border=\"1\" class=\"dataframe\">\n",
       "  <thead>\n",
       "    <tr style=\"text-align: right;\">\n",
       "      <th></th>\n",
       "      <th>show_id</th>\n",
       "      <th>type</th>\n",
       "      <th>title</th>\n",
       "      <th>director</th>\n",
       "      <th>cast</th>\n",
       "      <th>country</th>\n",
       "      <th>date_added</th>\n",
       "      <th>release_year</th>\n",
       "      <th>rating</th>\n",
       "      <th>duration</th>\n",
       "      <th>listed_in</th>\n",
       "      <th>description</th>\n",
       "    </tr>\n",
       "  </thead>\n",
       "  <tbody>\n",
       "    <tr>\n",
       "      <th>3332</th>\n",
       "      <td>s3333</td>\n",
       "      <td>Movie</td>\n",
       "      <td>Christmas Survival</td>\n",
       "      <td>James Dearden</td>\n",
       "      <td>Julian Ovenden, Gemma Whelan, Joely Richardson...</td>\n",
       "      <td>United Kingdom</td>\n",
       "      <td>November 1, 2019</td>\n",
       "      <td>2018</td>\n",
       "      <td>TV-MA</td>\n",
       "      <td>101 min</td>\n",
       "      <td>Comedies</td>\n",
       "      <td>With Christmas just around the corner, sisters...</td>\n",
       "    </tr>\n",
       "    <tr>\n",
       "      <th>4544</th>\n",
       "      <td>s4545</td>\n",
       "      <td>Movie</td>\n",
       "      <td>Monty Python Live (Mostly): One Down, Five to Go</td>\n",
       "      <td>Eric Idle</td>\n",
       "      <td>John Cleese, Terry Gilliam, Eric Idle, Terry J...</td>\n",
       "      <td>United Kingdom</td>\n",
       "      <td>October 2, 2018</td>\n",
       "      <td>2014</td>\n",
       "      <td>TV-MA</td>\n",
       "      <td>137 min</td>\n",
       "      <td>Comedies</td>\n",
       "      <td>Live from London in a sold-out final show, sur...</td>\n",
       "    </tr>\n",
       "    <tr>\n",
       "      <th>4547</th>\n",
       "      <td>s4548</td>\n",
       "      <td>Movie</td>\n",
       "      <td>Monty Python: Live at The Hollywood Bowl</td>\n",
       "      <td>Terry Hughes, Ian MacNaughton</td>\n",
       "      <td>Graham Chapman, John Cleese, Terry Gilliam, Er...</td>\n",
       "      <td>United Kingdom</td>\n",
       "      <td>October 2, 2018</td>\n",
       "      <td>1982</td>\n",
       "      <td>R</td>\n",
       "      <td>80 min</td>\n",
       "      <td>Comedies</td>\n",
       "      <td>Film clips and Terry Gilliam animations featur...</td>\n",
       "    </tr>\n",
       "    <tr>\n",
       "      <th>4554</th>\n",
       "      <td>s4555</td>\n",
       "      <td>Movie</td>\n",
       "      <td>Parrot Sketch Not Included: Twenty Years of Mo...</td>\n",
       "      <td>Ian MacNaughton</td>\n",
       "      <td>Steve Martin, John Cleese, Graham Chapman, Ter...</td>\n",
       "      <td>United Kingdom</td>\n",
       "      <td>October 2, 2018</td>\n",
       "      <td>1989</td>\n",
       "      <td>TV-14</td>\n",
       "      <td>72 min</td>\n",
       "      <td>Comedies</td>\n",
       "      <td>Presented by Steve Martin, this anthology draw...</td>\n",
       "    </tr>\n",
       "    <tr>\n",
       "      <th>6576</th>\n",
       "      <td>s6577</td>\n",
       "      <td>Movie</td>\n",
       "      <td>Dead in a Week (Or Your Money Back)</td>\n",
       "      <td>Tom Edmunds</td>\n",
       "      <td>Tom Wilkinson, Aneurin Barnard, Freya Mavor, M...</td>\n",
       "      <td>United Kingdom</td>\n",
       "      <td>March 1, 2019</td>\n",
       "      <td>2018</td>\n",
       "      <td>TV-MA</td>\n",
       "      <td>90 min</td>\n",
       "      <td>Comedies</td>\n",
       "      <td>After several failed attempts at taking his ow...</td>\n",
       "    </tr>\n",
       "    <tr>\n",
       "      <th>6779</th>\n",
       "      <td>s6780</td>\n",
       "      <td>Movie</td>\n",
       "      <td>For Love or Money</td>\n",
       "      <td>Mark Murphy</td>\n",
       "      <td>Robert Kazinsky, Samantha Barks, Ed Speleers, ...</td>\n",
       "      <td>United Kingdom</td>\n",
       "      <td>August 16, 2019</td>\n",
       "      <td>2019</td>\n",
       "      <td>TV-MA</td>\n",
       "      <td>95 min</td>\n",
       "      <td>Comedies</td>\n",
       "      <td>When a goofy but likable millionaire discovers...</td>\n",
       "    </tr>\n",
       "    <tr>\n",
       "      <th>8201</th>\n",
       "      <td>s8202</td>\n",
       "      <td>Movie</td>\n",
       "      <td>The Bad Education Movie</td>\n",
       "      <td>Elliot Hegarty</td>\n",
       "      <td>Jack Whitehall, Joanna Scanlan, Iain Glen, Eth...</td>\n",
       "      <td>United Kingdom</td>\n",
       "      <td>December 15, 2018</td>\n",
       "      <td>2015</td>\n",
       "      <td>TV-MA</td>\n",
       "      <td>87 min</td>\n",
       "      <td>Comedies</td>\n",
       "      <td>Britain's most ineffective but caring teacher ...</td>\n",
       "    </tr>\n",
       "    <tr>\n",
       "      <th>8536</th>\n",
       "      <td>s8537</td>\n",
       "      <td>Movie</td>\n",
       "      <td>The Trip to Spain</td>\n",
       "      <td>Michael Winterbottom</td>\n",
       "      <td>Steve Coogan, Rob Brydon, Marta Barrio, Claire...</td>\n",
       "      <td>United Kingdom</td>\n",
       "      <td>December 12, 2017</td>\n",
       "      <td>2016</td>\n",
       "      <td>TV-MA</td>\n",
       "      <td>108 min</td>\n",
       "      <td>Comedies</td>\n",
       "      <td>Comedians Steve Coogan and Rob Brydon gorge on...</td>\n",
       "    </tr>\n",
       "  </tbody>\n",
       "</table>\n",
       "</div>"
      ],
      "text/plain": [
       "     show_id   type                                              title  \\\n",
       "3332   s3333  Movie                                 Christmas Survival   \n",
       "4544   s4545  Movie   Monty Python Live (Mostly): One Down, Five to Go   \n",
       "4547   s4548  Movie           Monty Python: Live at The Hollywood Bowl   \n",
       "4554   s4555  Movie  Parrot Sketch Not Included: Twenty Years of Mo...   \n",
       "6576   s6577  Movie                Dead in a Week (Or Your Money Back)   \n",
       "6779   s6780  Movie                                  For Love or Money   \n",
       "8201   s8202  Movie                            The Bad Education Movie   \n",
       "8536   s8537  Movie                                  The Trip to Spain   \n",
       "\n",
       "                           director  \\\n",
       "3332                  James Dearden   \n",
       "4544                      Eric Idle   \n",
       "4547  Terry Hughes, Ian MacNaughton   \n",
       "4554                Ian MacNaughton   \n",
       "6576                    Tom Edmunds   \n",
       "6779                    Mark Murphy   \n",
       "8201                 Elliot Hegarty   \n",
       "8536           Michael Winterbottom   \n",
       "\n",
       "                                                   cast         country  \\\n",
       "3332  Julian Ovenden, Gemma Whelan, Joely Richardson...  United Kingdom   \n",
       "4544  John Cleese, Terry Gilliam, Eric Idle, Terry J...  United Kingdom   \n",
       "4547  Graham Chapman, John Cleese, Terry Gilliam, Er...  United Kingdom   \n",
       "4554  Steve Martin, John Cleese, Graham Chapman, Ter...  United Kingdom   \n",
       "6576  Tom Wilkinson, Aneurin Barnard, Freya Mavor, M...  United Kingdom   \n",
       "6779  Robert Kazinsky, Samantha Barks, Ed Speleers, ...  United Kingdom   \n",
       "8201  Jack Whitehall, Joanna Scanlan, Iain Glen, Eth...  United Kingdom   \n",
       "8536  Steve Coogan, Rob Brydon, Marta Barrio, Claire...  United Kingdom   \n",
       "\n",
       "             date_added  release_year rating duration listed_in  \\\n",
       "3332   November 1, 2019          2018  TV-MA  101 min  Comedies   \n",
       "4544    October 2, 2018          2014  TV-MA  137 min  Comedies   \n",
       "4547    October 2, 2018          1982      R   80 min  Comedies   \n",
       "4554    October 2, 2018          1989  TV-14   72 min  Comedies   \n",
       "6576      March 1, 2019          2018  TV-MA   90 min  Comedies   \n",
       "6779    August 16, 2019          2019  TV-MA   95 min  Comedies   \n",
       "8201  December 15, 2018          2015  TV-MA   87 min  Comedies   \n",
       "8536  December 12, 2017          2016  TV-MA  108 min  Comedies   \n",
       "\n",
       "                                            description  \n",
       "3332  With Christmas just around the corner, sisters...  \n",
       "4544  Live from London in a sold-out final show, sur...  \n",
       "4547  Film clips and Terry Gilliam animations featur...  \n",
       "4554  Presented by Steve Martin, this anthology draw...  \n",
       "6576  After several failed attempts at taking his ow...  \n",
       "6779  When a goofy but likable millionaire discovers...  \n",
       "8201  Britain's most ineffective but caring teacher ...  \n",
       "8536  Comedians Steve Coogan and Rob Brydon gorge on...  "
      ]
     },
     "execution_count": 36,
     "metadata": {},
     "output_type": "execute_result"
    }
   ],
   "source": [
    "df[(df['type']=='Movie')&(df['listed_in']=='Comedies')&(df['country']=='United Kingdom')]"
   ]
  },
  {
   "cell_type": "code",
   "execution_count": 35,
   "id": "af734ed6",
   "metadata": {},
   "outputs": [
    {
     "data": {
      "text/html": [
       "<div>\n",
       "<style scoped>\n",
       "    .dataframe tbody tr th:only-of-type {\n",
       "        vertical-align: middle;\n",
       "    }\n",
       "\n",
       "    .dataframe tbody tr th {\n",
       "        vertical-align: top;\n",
       "    }\n",
       "\n",
       "    .dataframe thead th {\n",
       "        text-align: right;\n",
       "    }\n",
       "</style>\n",
       "<table border=\"1\" class=\"dataframe\">\n",
       "  <thead>\n",
       "    <tr style=\"text-align: right;\">\n",
       "      <th></th>\n",
       "      <th>show_id</th>\n",
       "      <th>type</th>\n",
       "      <th>title</th>\n",
       "      <th>director</th>\n",
       "      <th>cast</th>\n",
       "      <th>country</th>\n",
       "      <th>date_added</th>\n",
       "      <th>release_year</th>\n",
       "      <th>rating</th>\n",
       "      <th>duration</th>\n",
       "      <th>listed_in</th>\n",
       "      <th>description</th>\n",
       "    </tr>\n",
       "  </thead>\n",
       "  <tbody>\n",
       "    <tr>\n",
       "      <th>4250</th>\n",
       "      <td>s4251</td>\n",
       "      <td>TV Show</td>\n",
       "      <td>Pioneers: First Women Filmmakers*</td>\n",
       "      <td>Missing</td>\n",
       "      <td>Missing</td>\n",
       "      <td>Unavailable</td>\n",
       "      <td>December 30, 2018</td>\n",
       "      <td>1925</td>\n",
       "      <td>TV-14</td>\n",
       "      <td>1 Season</td>\n",
       "      <td>TV Shows</td>\n",
       "      <td>This collection restores films from women who ...</td>\n",
       "    </tr>\n",
       "    <tr>\n",
       "      <th>7790</th>\n",
       "      <td>s7791</td>\n",
       "      <td>Movie</td>\n",
       "      <td>Prelude to War</td>\n",
       "      <td>Frank Capra</td>\n",
       "      <td>Missing</td>\n",
       "      <td>United States</td>\n",
       "      <td>March 31, 2017</td>\n",
       "      <td>1942</td>\n",
       "      <td>TV-14</td>\n",
       "      <td>52 min</td>\n",
       "      <td>Classic Movies, Documentaries</td>\n",
       "      <td>Frank Capra's documentary chronicles the rise ...</td>\n",
       "    </tr>\n",
       "    <tr>\n",
       "      <th>8205</th>\n",
       "      <td>s8206</td>\n",
       "      <td>Movie</td>\n",
       "      <td>The Battle of Midway</td>\n",
       "      <td>John Ford</td>\n",
       "      <td>Henry Fonda, Jane Darwell</td>\n",
       "      <td>United States</td>\n",
       "      <td>March 31, 2017</td>\n",
       "      <td>1942</td>\n",
       "      <td>TV-14</td>\n",
       "      <td>18 min</td>\n",
       "      <td>Classic Movies, Documentaries</td>\n",
       "      <td>Director John Ford captures combat footage of ...</td>\n",
       "    </tr>\n",
       "    <tr>\n",
       "      <th>8660</th>\n",
       "      <td>s8661</td>\n",
       "      <td>Movie</td>\n",
       "      <td>Undercover: How to Operate Behind Enemy Lines</td>\n",
       "      <td>John Ford</td>\n",
       "      <td>Missing</td>\n",
       "      <td>United States</td>\n",
       "      <td>March 31, 2017</td>\n",
       "      <td>1943</td>\n",
       "      <td>TV-PG</td>\n",
       "      <td>61 min</td>\n",
       "      <td>Classic Movies, Documentaries</td>\n",
       "      <td>This World War II-era training film dramatizes...</td>\n",
       "    </tr>\n",
       "    <tr>\n",
       "      <th>8739</th>\n",
       "      <td>s8740</td>\n",
       "      <td>Movie</td>\n",
       "      <td>Why We Fight: The Battle of Russia</td>\n",
       "      <td>Frank Capra, Anatole Litvak</td>\n",
       "      <td>Missing</td>\n",
       "      <td>United States</td>\n",
       "      <td>March 31, 2017</td>\n",
       "      <td>1943</td>\n",
       "      <td>TV-PG</td>\n",
       "      <td>82 min</td>\n",
       "      <td>Documentaries</td>\n",
       "      <td>This installment of Frank Capra's acclaimed do...</td>\n",
       "    </tr>\n",
       "  </tbody>\n",
       "</table>\n",
       "</div>"
      ],
      "text/plain": [
       "     show_id     type                                          title  \\\n",
       "4250   s4251  TV Show              Pioneers: First Women Filmmakers*   \n",
       "7790   s7791    Movie                                 Prelude to War   \n",
       "8205   s8206    Movie                           The Battle of Midway   \n",
       "8660   s8661    Movie  Undercover: How to Operate Behind Enemy Lines   \n",
       "8739   s8740    Movie             Why We Fight: The Battle of Russia   \n",
       "\n",
       "                         director                       cast        country  \\\n",
       "4250                      Missing                    Missing    Unavailable   \n",
       "7790                  Frank Capra                    Missing  United States   \n",
       "8205                    John Ford  Henry Fonda, Jane Darwell  United States   \n",
       "8660                    John Ford                    Missing  United States   \n",
       "8739  Frank Capra, Anatole Litvak                    Missing  United States   \n",
       "\n",
       "             date_added  release_year rating  duration  \\\n",
       "4250  December 30, 2018          1925  TV-14  1 Season   \n",
       "7790     March 31, 2017          1942  TV-14    52 min   \n",
       "8205     March 31, 2017          1942  TV-14    18 min   \n",
       "8660     March 31, 2017          1943  TV-PG    61 min   \n",
       "8739     March 31, 2017          1943  TV-PG    82 min   \n",
       "\n",
       "                          listed_in  \\\n",
       "4250                       TV Shows   \n",
       "7790  Classic Movies, Documentaries   \n",
       "8205  Classic Movies, Documentaries   \n",
       "8660  Classic Movies, Documentaries   \n",
       "8739                  Documentaries   \n",
       "\n",
       "                                            description  \n",
       "4250  This collection restores films from women who ...  \n",
       "7790  Frank Capra's documentary chronicles the rise ...  \n",
       "8205  Director John Ford captures combat footage of ...  \n",
       "8660  This World War II-era training film dramatizes...  \n",
       "8739  This installment of Frank Capra's acclaimed do...  "
      ]
     },
     "execution_count": 35,
     "metadata": {},
     "output_type": "execute_result"
    }
   ],
   "source": [
    "#sorted dataset by year\n",
    "df.sort_values(['release_year']).head()"
   ]
  },
  {
   "cell_type": "code",
   "execution_count": 37,
   "id": "f75c2700",
   "metadata": {},
   "outputs": [
    {
     "data": {
      "text/plain": [
       "Dramas, International Movies                        362\n",
       "Documentaries                                       359\n",
       "Stand-Up Comedy                                     334\n",
       "Comedies, Dramas, International Movies              274\n",
       "Dramas, Independent Movies, International Movies    252\n",
       "Kids' TV                                            220\n",
       "Children & Family Movies                            215\n",
       "Children & Family Movies, Comedies                  201\n",
       "Documentaries, International Movies                 186\n",
       "Dramas, International Movies, Romantic Movies       180\n",
       "Name: listed_in, dtype: int64"
      ]
     },
     "execution_count": 37,
     "metadata": {},
     "output_type": "execute_result"
    }
   ],
   "source": [
    "data1=df[\"listed_in\"].value_counts()[:10]\n",
    "data1"
   ]
  },
  {
   "cell_type": "code",
   "execution_count": 38,
   "id": "c7114ae4",
   "metadata": {},
   "outputs": [
    {
     "data": {
      "text/plain": [
       "<function matplotlib.pyplot.show(close=None, block=None)>"
      ]
     },
     "execution_count": 38,
     "metadata": {},
     "output_type": "execute_result"
    },
    {
     "data": {
      "image/png": "[encoded data removed]",
      "text/plain": [
       "<Figure size 1200x1000 with 1 Axes>"
      ]
     },
     "metadata": {},
     "output_type": "display_data"
    }
   ],
   "source": [
    "plt.figure(figsize=(12,10))\n",
    "sns.barplot(x=data1.index, y=data1)\n",
    "plt.ylabel('Value Counts')\n",
    "plt.xticks(rotation=90)\n",
    "plt.title('most watched shows on Netflix')\n",
    "plt.show"
   ]
  },
  {
   "cell_type": "markdown",
   "id": "5289a583",
   "metadata": {},
   "source": [
    "### Summary\n",
    "#### Netflix has more Movies than TV Shows\n",
    "#### highest No. Of Movies and TV Shows are produced By United States.\n",
    "#### 2018 is the year in which Netflix has produced more no. of content.\n",
    "#### Similarly July is the month in which Netflix has produced most no of content.\n",
    "#### Rajiv Chilka is the top most director who has produced more no of movies on Netflix.\n",
    "#### The most watched show on netflix is Drama,International movies"
   ]
  }
 ],
 "metadata": {
  "kernelspec": {
   "display_name": "Python 3 (ipykernel)",
   "language": "python",
   "name": "python3"
  },
  "language_info": {
   "codemirror_mode": {
    "name": "ipython",
    "version": 3
   },
   "file_extension": ".py",
   "mimetype": "text/x-python",
   "name": "python",
   "nbconvert_exporter": "python",
   "pygments_lexer": "ipython3",
   "version": "3.9.13"
  }
 },
 "nbformat": 4,
 "nbformat_minor": 5
}
